{
 "metadata": {
  "name": "",
  "signature": "sha256:a5684d6247afc12648f434bed5e6294e39460f341519901d936da9a104a6a2a1"
 },
 "nbformat": 3,
 "nbformat_minor": 0,
 "worksheets": [
  {
   "cells": [
    {
     "cell_type": "code",
     "collapsed": false,
     "input": [
      "%matplotlib inline\n",
      "import numpy as np\n",
      "import matplotlib.pyplot as plt\n",
      "import cvxopt as opt\n",
      "from cvxopt import blas, solvers\n",
      "import pandas as pd"
     ],
     "language": "python",
     "metadata": {},
     "outputs": [],
     "prompt_number": 1
    },
    {
     "cell_type": "code",
     "collapsed": false,
     "input": [
      "return_data = pd.read_csv(\"asset_return_data.csv\").drop('Id', 1)"
     ],
     "language": "python",
     "metadata": {},
     "outputs": [],
     "prompt_number": 2
    },
    {
     "cell_type": "code",
     "collapsed": false,
     "input": [
      "return_data.head()"
     ],
     "language": "python",
     "metadata": {},
     "outputs": [
      {
       "html": [
        "<div style=\"max-width:1500px;overflow:auto;\">\n",
        "<style scoped>\n",
        "    .dataframe tbody tr th:only-of-type {\n",
        "        vertical-align: middle;\n",
        "    }\n",
        "\n",
        "    .dataframe tbody tr th {\n",
        "        vertical-align: top;\n",
        "    }\n",
        "\n",
        "    .dataframe thead th {\n",
        "        text-align: right;\n",
        "    }\n",
        "</style>\n",
        "<table border=\"1\" class=\"dataframe\">\n",
        "  <thead>\n",
        "    <tr style=\"text-align: right;\">\n",
        "      <th></th>\n",
        "      <th>ABOTT_INDIA</th>\n",
        "      <th>ACC</th>\n",
        "      <th>AJANTA_PHARMA</th>\n",
        "      <th>APPOLO_HOSPITAL_ENTERPRISE</th>\n",
        "      <th>ASHOK_LEYLAND</th>\n",
        "      <th>ASIAN_PAINTS</th>\n",
        "      <th>AUROBINDO_PHARMA</th>\n",
        "      <th>AVENUES_APARTMENT</th>\n",
        "      <th>AXIS_BANK</th>\n",
        "      <th>NCL</th>\n",
        "      <th>NESTLE_INDIA</th>\n",
        "      <th>NIIT</th>\n",
        "      <th>NTPC</th>\n",
        "      <th>RBL_BANK</th>\n",
        "      <th>RCOM</th>\n",
        "      <th>ROYAL_ORCHID_HOTELS</th>\n",
        "      <th>BAJAJ_AUTO</th>\n",
        "      <th>BOSCH</th>\n",
        "      <th>AMBUJA_CEMENT</th>\n",
        "      <th>AIRTEL</th>\n",
        "    </tr>\n",
        "  </thead>\n",
        "  <tbody>\n",
        "    <tr>\n",
        "      <th>0</th>\n",
        "      <td>0.008394</td>\n",
        "      <td>0.003700</td>\n",
        "      <td>0.001013</td>\n",
        "      <td>-0.003934</td>\n",
        "      <td>0.052748</td>\n",
        "      <td>-0.007284</td>\n",
        "      <td>0.010971</td>\n",
        "      <td>0.009378</td>\n",
        "      <td>-0.009453</td>\n",
        "      <td>0.011360</td>\n",
        "      <td>0.025438</td>\n",
        "      <td>-0.018838</td>\n",
        "      <td>0.001289</td>\n",
        "      <td>-0.009400</td>\n",
        "      <td>0.027836</td>\n",
        "      <td>0.000929</td>\n",
        "      <td>-0.005573</td>\n",
        "      <td>0.007703</td>\n",
        "      <td>0.014997</td>\n",
        "      <td>-0.018045</td>\n",
        "    </tr>\n",
        "    <tr>\n",
        "      <th>1</th>\n",
        "      <td>-0.007982</td>\n",
        "      <td>0.014044</td>\n",
        "      <td>0.005934</td>\n",
        "      <td>0.021597</td>\n",
        "      <td>-0.000443</td>\n",
        "      <td>0.012231</td>\n",
        "      <td>-0.017577</td>\n",
        "      <td>0.037736</td>\n",
        "      <td>-0.032281</td>\n",
        "      <td>-0.009182</td>\n",
        "      <td>0.040470</td>\n",
        "      <td>0.001048</td>\n",
        "      <td>-0.004491</td>\n",
        "      <td>0.020247</td>\n",
        "      <td>0.038295</td>\n",
        "      <td>-0.027702</td>\n",
        "      <td>0.011896</td>\n",
        "      <td>0.004116</td>\n",
        "      <td>0.014106</td>\n",
        "      <td>0.019705</td>\n",
        "    </tr>\n",
        "    <tr>\n",
        "      <th>2</th>\n",
        "      <td>0.006843</td>\n",
        "      <td>-0.018285</td>\n",
        "      <td>0.032984</td>\n",
        "      <td>-0.000803</td>\n",
        "      <td>0.000000</td>\n",
        "      <td>-0.001709</td>\n",
        "      <td>0.020044</td>\n",
        "      <td>0.015915</td>\n",
        "      <td>0.026732</td>\n",
        "      <td>-0.005889</td>\n",
        "      <td>-0.016361</td>\n",
        "      <td>0.004737</td>\n",
        "      <td>0.007759</td>\n",
        "      <td>-0.012193</td>\n",
        "      <td>-0.011429</td>\n",
        "      <td>0.025950</td>\n",
        "      <td>-0.003398</td>\n",
        "      <td>-0.000853</td>\n",
        "      <td>0.008895</td>\n",
        "      <td>0.051310</td>\n",
        "    </tr>\n",
        "    <tr>\n",
        "      <th>3</th>\n",
        "      <td>0.001602</td>\n",
        "      <td>0.006165</td>\n",
        "      <td>0.052634</td>\n",
        "      <td>-0.003415</td>\n",
        "      <td>0.008039</td>\n",
        "      <td>0.000524</td>\n",
        "      <td>0.012329</td>\n",
        "      <td>0.005839</td>\n",
        "      <td>0.022155</td>\n",
        "      <td>0.061914</td>\n",
        "      <td>-0.002156</td>\n",
        "      <td>-0.015034</td>\n",
        "      <td>0.007820</td>\n",
        "      <td>0.003344</td>\n",
        "      <td>0.013758</td>\n",
        "      <td>0.000928</td>\n",
        "      <td>0.022449</td>\n",
        "      <td>0.000005</td>\n",
        "      <td>0.004692</td>\n",
        "      <td>0.019155</td>\n",
        "    </tr>\n",
        "    <tr>\n",
        "      <th>4</th>\n",
        "      <td>0.036108</td>\n",
        "      <td>0.037777</td>\n",
        "      <td>0.006836</td>\n",
        "      <td>-0.004833</td>\n",
        "      <td>0.016341</td>\n",
        "      <td>-0.012273</td>\n",
        "      <td>-0.001965</td>\n",
        "      <td>-0.003707</td>\n",
        "      <td>0.018426</td>\n",
        "      <td>0.007244</td>\n",
        "      <td>0.004723</td>\n",
        "      <td>-0.013804</td>\n",
        "      <td>0.016562</td>\n",
        "      <td>-0.002808</td>\n",
        "      <td>-0.005043</td>\n",
        "      <td>0.003413</td>\n",
        "      <td>-0.007409</td>\n",
        "      <td>-0.020130</td>\n",
        "      <td>0.068258</td>\n",
        "      <td>0.016342</td>\n",
        "    </tr>\n",
        "  </tbody>\n",
        "</table>\n",
        "</div>"
       ],
       "metadata": {},
       "output_type": "pyout",
       "prompt_number": 3,
       "text": [
        "   ABOTT_INDIA       ACC  AJANTA_PHARMA  APPOLO_HOSPITAL_ENTERPRISE  \\\n",
        "0     0.008394  0.003700       0.001013                   -0.003934   \n",
        "1    -0.007982  0.014044       0.005934                    0.021597   \n",
        "2     0.006843 -0.018285       0.032984                   -0.000803   \n",
        "3     0.001602  0.006165       0.052634                   -0.003415   \n",
        "4     0.036108  0.037777       0.006836                   -0.004833   \n",
        "\n",
        "   ASHOK_LEYLAND  ASIAN_PAINTS  AUROBINDO_PHARMA  AVENUES_APARTMENT  \\\n",
        "0       0.052748     -0.007284          0.010971           0.009378   \n",
        "1      -0.000443      0.012231         -0.017577           0.037736   \n",
        "2       0.000000     -0.001709          0.020044           0.015915   \n",
        "3       0.008039      0.000524          0.012329           0.005839   \n",
        "4       0.016341     -0.012273         -0.001965          -0.003707   \n",
        "\n",
        "   AXIS_BANK       NCL  NESTLE_INDIA      NIIT      NTPC  RBL_BANK      RCOM  \\\n",
        "0  -0.009453  0.011360      0.025438 -0.018838  0.001289 -0.009400  0.027836   \n",
        "1  -0.032281 -0.009182      0.040470  0.001048 -0.004491  0.020247  0.038295   \n",
        "2   0.026732 -0.005889     -0.016361  0.004737  0.007759 -0.012193 -0.011429   \n",
        "3   0.022155  0.061914     -0.002156 -0.015034  0.007820  0.003344  0.013758   \n",
        "4   0.018426  0.007244      0.004723 -0.013804  0.016562 -0.002808 -0.005043   \n",
        "\n",
        "   ROYAL_ORCHID_HOTELS  BAJAJ_AUTO     BOSCH  AMBUJA_CEMENT    AIRTEL  \n",
        "0             0.000929   -0.005573  0.007703       0.014997 -0.018045  \n",
        "1            -0.027702    0.011896  0.004116       0.014106  0.019705  \n",
        "2             0.025950   -0.003398 -0.000853       0.008895  0.051310  \n",
        "3             0.000928    0.022449  0.000005       0.004692  0.019155  \n",
        "4             0.003413   -0.007409 -0.020130       0.068258  0.016342  "
       ]
      }
     ],
     "prompt_number": 3
    },
    {
     "cell_type": "code",
     "collapsed": false,
     "input": [
      "deviation_matrix = return_data.sub(return_data.mean())\n",
      "row_count = return_data.count()[0]"
     ],
     "language": "python",
     "metadata": {},
     "outputs": [],
     "prompt_number": 16
    },
    {
     "cell_type": "code",
     "collapsed": false,
     "input": [
      "return_data.mean()"
     ],
     "language": "python",
     "metadata": {},
     "outputs": [
      {
       "metadata": {},
       "output_type": "pyout",
       "prompt_number": 17,
       "text": [
        "ABOTT_INDIA                   0.002382\n",
        "ACC                          -0.000364\n",
        "AJANTA_PHARMA                -0.000562\n",
        "APPOLO_HOSPITAL_ENTERPRISE   -0.000983\n",
        "ASHOK_LEYLAND                 0.000522\n",
        "ASIAN_PAINTS                  0.000973\n",
        "AUROBINDO_PHARMA             -0.000652\n",
        "AVENUES_APARTMENT             0.002604\n",
        "AXIS_BANK                     0.000376\n",
        "NCL                          -0.000486\n",
        "NESTLE_INDIA                  0.001999\n",
        "NIIT                          0.000363\n",
        "NTPC                         -0.000165\n",
        "RBL_BANK                      0.000369\n",
        "RCOM                         -0.000060\n",
        "ROYAL_ORCHID_HOTELS           0.002006\n",
        "BAJAJ_AUTO                   -0.000094\n",
        "BOSCH                        -0.000977\n",
        "AMBUJA_CEMENT                -0.000320\n",
        "AIRTEL                       -0.000128\n",
        "dtype: float64"
       ]
      }
     ],
     "prompt_number": 17
    },
    {
     "cell_type": "code",
     "collapsed": false,
     "input": [
      "row_count"
     ],
     "language": "python",
     "metadata": {},
     "outputs": [
      {
       "metadata": {},
       "output_type": "pyout",
       "prompt_number": 18,
       "text": [
        "250"
       ]
      }
     ],
     "prompt_number": 18
    },
    {
     "cell_type": "code",
     "collapsed": false,
     "input": [
      "cov_mat = 1 / float(row_count) * np.matmul(np.transpose(deviation_matrix), deviation_matrix)"
     ],
     "language": "python",
     "metadata": {},
     "outputs": [],
     "prompt_number": 19
    },
    {
     "cell_type": "code",
     "collapsed": false,
     "input": [
      "w_mat = np.matmul(np.linalg.inv(cov_mat), np.ones(20)) / np.matmul(np.transpose(np.ones(20)), np.matmul(np.linalg.inv(cov_mat), np.ones(20)))"
     ],
     "language": "python",
     "metadata": {},
     "outputs": [],
     "prompt_number": 21
    },
    {
     "cell_type": "code",
     "collapsed": false,
     "input": [
      "sum(w_mat)"
     ],
     "language": "python",
     "metadata": {},
     "outputs": [
      {
       "metadata": {},
       "output_type": "pyout",
       "prompt_number": 22,
       "text": [
        "1.0000000000000002"
       ]
      }
     ],
     "prompt_number": 22
    },
    {
     "cell_type": "code",
     "collapsed": false,
     "input": [],
     "language": "python",
     "metadata": {},
     "outputs": []
    }
   ],
   "metadata": {}
  }
 ]
}